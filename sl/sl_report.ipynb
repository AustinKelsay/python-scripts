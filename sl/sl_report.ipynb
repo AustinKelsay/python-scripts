{
 "metadata": {
  "language_info": {
   "codemirror_mode": {
    "name": "ipython",
    "version": 3
   },
   "file_extension": ".py",
   "mimetype": "text/x-python",
   "name": "python",
   "nbconvert_exporter": "python",
   "pygments_lexer": "ipython3",
   "version": "3.8.5"
  },
  "orig_nbformat": 4,
  "kernelspec": {
   "name": "python3",
   "display_name": "Python 3.8.5 64-bit ('base': conda)"
  },
  "interpreter": {
   "hash": "58b2b68eb5cb9589b4c7d31af091abf4e221de8a2b90868b43f9b9f1f5b7d15c"
  }
 },
 "nbformat": 4,
 "nbformat_minor": 2,
 "cells": [
  {
   "cell_type": "code",
   "execution_count": 1,
   "metadata": {},
   "outputs": [],
   "source": [
    "import calendar\n",
    "import json\n",
    "from collections import Counter\n",
    "from datetime import date\n",
    "from pprint import pprint\n",
    "import os\n",
    "from pymongo import MongoClient\n",
    "import pandas as pd"
   ]
  },
  {
   "cell_type": "code",
   "execution_count": 2,
   "metadata": {},
   "outputs": [],
   "source": [
    "with open(os.path.expanduser('~/.mongo/mongo.json'),'r') as config:\n",
    "    mongo_uri = json.load(config)['mongo_uri']\n",
    "client = MongoClient(mongo_uri)\n",
    "db = client.forethought\n",
    "\n",
    "organization_id = '429'\n",
    "start = '2021-06-11T00:00:00Z'\n",
    "end = '2021-06-25T00:00:00Z'\n",
    "mongo_org_collection = db[str(organization_id)]"
   ]
  },
  {
   "cell_type": "code",
   "execution_count": 9,
   "metadata": {},
   "outputs": [
    {
     "output_type": "stream",
     "name": "stdout",
     "text": [
      "100\n",
      "200\n",
      "300\n",
      "400\n",
      "total:  441\n"
     ]
    }
   ],
   "source": [
    "def get_dataset():\n",
    "    tickets = mongo_org_collection.find({\n",
    "        'doc_type': 'ticket',\n",
    "        \"is_deleted\": False,\n",
    "        'original_item.via.channel': {'$in':['web','email', \"api\"]},\n",
    "        'original_item.created_at': {'$gte': start, '$lte': end},\n",
    "        'original_item.custom_fields': {\"$ne\":\n",
    "            {\n",
    "                \"id\" : 360044502352,\n",
    "                \"value\" : None\n",
    "            }\n",
    "        }\n",
    "    })\n",
    "    \n",
    "    file_path = os.path.expanduser('~/Downloads/sl_sentiment_predictions.json')\n",
    "    with open(file_path, 'w') as f:\n",
    "        count = 0\n",
    "        for ticket in tickets:\n",
    "            i = ticket[\"original_item\"]\n",
    "            j = {\n",
    "                \"ticket_id\": i['id'], \n",
    "                # \"subject\": i[\"subject\"],\n",
    "                # \"description\": i[\"description\"],\n",
    "                # \"created_at\": i[\"created_at\"],\n",
    "                # \"label\": [x['value'] for x in i['custom_fields'] if x['id'] == 360044502352]\n",
    "                }\n",
    "                \n",
    "            json.dump(j, f)\n",
    "            _ = f.write('\\n')\n",
    "            count += 1\n",
    "            if count % 100 == 0:\n",
    "                print(count)\n",
    "\n",
    "    print(\"total: \", count)\n",
    "\n",
    "\n",
    "get_dataset()"
   ]
  },
  {
   "cell_type": "code",
   "execution_count": 25,
   "metadata": {},
   "outputs": [],
   "source": [
    "ticketlist = []\n",
    "predictionlist = []\n",
    "output = []\n",
    "\n",
    "with open('sl_self_serv_predictions.json') as file:\n",
    "\tfor obj in file:\n",
    "\t\tticket = json.loads(obj)\n",
    "\t\tpredictionlist.append(ticket)\n",
    "\n",
    "with open('sl_self_serv_corrections.json') as file:\n",
    "\tfor obj in file:\n",
    "\t\tticket = json.loads(obj)\n",
    "\t\tticketlist.append(ticket)"
   ]
  },
  {
   "cell_type": "code",
   "execution_count": 26,
   "metadata": {},
   "outputs": [
    {
     "output_type": "stream",
     "name": "stdout",
     "text": [
      "340\n6\n"
     ]
    }
   ],
   "source": [
    "correct_yes = 0\n",
    "correct_no = 0\n",
    "\n",
    "for prediction in predictionlist:\n",
    "    for ticket in ticketlist:\n",
    "        if prediction['ticket_id'] == ticket['ticket_id'] and prediction['label'] == ticket['label']:\n",
    "            if prediction['label'] == 'no':\n",
    "                correct_no += 1\n",
    "            if prediction['label'] == 'yes':\n",
    "                correct_yes += 1\n",
    "print(correct_no)\n",
    "print(correct_yes)\n",
    "            "
   ]
  },
  {
   "cell_type": "code",
   "execution_count": null,
   "metadata": {},
   "outputs": [],
   "source": []
  }
 ]
}