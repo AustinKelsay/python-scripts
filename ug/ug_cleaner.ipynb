{
 "metadata": {
  "language_info": {
   "codemirror_mode": {
    "name": "ipython",
    "version": 3
   },
   "file_extension": ".py",
   "mimetype": "text/x-python",
   "name": "python",
   "nbconvert_exporter": "python",
   "pygments_lexer": "ipython3",
   "version": "3.9.5"
  },
  "orig_nbformat": 2,
  "kernelspec": {
   "name": "python395jvsc74a57bd0b0fa6594d8f4cbf19f97940f81e996739fb7646882a419484c72d19e05852a7e",
   "display_name": "Python 3.9.5 64-bit"
  },
  "metadata": {
   "interpreter": {
    "hash": "b0fa6594d8f4cbf19f97940f81e996739fb7646882a419484c72d19e05852a7e"
   }
  }
 },
 "nbformat": 4,
 "nbformat_minor": 2,
 "cells": [
  {
   "cell_type": "code",
   "execution_count": 8,
   "metadata": {},
   "outputs": [
    {
     "output_type": "stream",
     "name": "stdout",
     "text": [
      "Requirement already satisfied: pandas in /opt/homebrew/lib/python3.9/site-packages (1.2.4)\n",
      "Requirement already satisfied: pytz>=2017.3 in /opt/homebrew/lib/python3.9/site-packages (from pandas) (2021.1)\n",
      "Requirement already satisfied: python-dateutil>=2.7.3 in /Users/austinkelsay/Library/Python/3.9/lib/python/site-packages (from pandas) (2.8.1)\n",
      "Requirement already satisfied: numpy>=1.16.5 in /opt/homebrew/lib/python3.9/site-packages (from pandas) (1.20.3)\n",
      "Requirement already satisfied: six>=1.5 in /Users/austinkelsay/Library/Python/3.9/lib/python/site-packages (from python-dateutil>=2.7.3->pandas) (1.16.0)\n"
     ]
    }
   ],
   "source": [
    "import sys\n",
    "!{sys.executable} -m pip install pandas\n",
    "import pandas as pd \n",
    "import json"
   ]
  },
  {
   "cell_type": "code",
   "execution_count": 10,
   "metadata": {},
   "outputs": [
    {
     "output_type": "execute_result",
     "data": {
      "text/plain": [
       "360096052231    196\n",
       "360000685092    192\n",
       "360072304091    184\n",
       "360132620452    158\n",
       "360114719352    149\n",
       "360155852651    128\n",
       "360159269712     88\n",
       "360105501532     81\n",
       "360143906331     76\n",
       "360050316592     75\n",
       "360134886211     62\n",
       "360203665432     51\n",
       "360132646271     51\n",
       "360103034432     48\n",
       "360158753971     42\n",
       "360156297211     41\n",
       "360145166491     40\n",
       "360154893871     37\n",
       "360185059752     36\n",
       "360000705392     35\n",
       "360107014951     32\n",
       "360158692552     32\n",
       "360144995692     26\n",
       "360202811531     26\n",
       "360183454532     25\n",
       "360182768971     24\n",
       "360088099532     24\n",
       "360105882511     21\n",
       "360036357432     19\n",
       "360103386491     16\n",
       "360185665911     15\n",
       "360181940132     14\n",
       "360182430592     14\n",
       "360169456352     13\n",
       "360132335371     13\n",
       "360143619212     13\n",
       "360188159811     12\n",
       "360141000711     11\n",
       "360164565171     11\n",
       "360200691491     10\n",
       "360159700112     10\n",
       "360171750132      9\n",
       "360197008931      9\n",
       "360141485952      8\n",
       "360190454352      8\n",
       "360170276772      8\n",
       "360193624491      8\n",
       "360144206252      8\n",
       "360185970071      7\n",
       "360141278951      7\n",
       "Name: macro_id, dtype: int64"
      ]
     },
     "metadata": {},
     "execution_count": 10
    }
   ],
   "source": [
    "dataframe = pd.read_json('question-macros-dataset-2019-06-25T16_08_00Z_2021-05-18T16_08_00Z.txt', orient=\"records\", lines=True)\n",
    "dataframe[\"macro_id\"].value_counts().head(50)"
   ]
  },
  {
   "cell_type": "code",
   "execution_count": 19,
   "metadata": {},
   "outputs": [],
   "source": [
    "ticketlist = []\n",
    "unique_ids = set()\n",
    "\n",
    "output = []\n",
    "\n",
    "with open('additional_tickets.json') as file:\n",
    "\tfor obj in file:\n",
    "\t\tticket = json.loads(obj)\n",
    "\t\tticketlist.append(ticket)"
   ]
  },
  {
   "cell_type": "code",
   "execution_count": 63,
   "metadata": {},
   "outputs": [],
   "source": [
    "# the spam headers we want to removed\n",
    "spam_headers = [\"Your email was marked as SPAM\", \"***SPAM***\"]\n",
    "\n",
    "# check for duplicate tickets by id\n",
    "for ticket in ticketlist:\n",
    "    if ticket[\"auxillary_info\"][\"ticket_id\"] not in unique_ids:\n",
    "        unique_ids.add(ticket[\"auxillary_info\"][\"ticket_id\"])\n",
    "        # Check for spam subjects and remove them then add ticket to output\n",
    "        if ticket[\"subject\"] in spam_headers:\n",
    "            ticket[\"subject\"] = \"\"\n",
    "            output.append(ticket)\n",
    "        else:\n",
    "            output.append(ticket)\n",
    "    "
   ]
  },
  {
   "cell_type": "code",
   "execution_count": 64,
   "metadata": {
    "tags": []
   },
   "outputs": [],
   "source": [
    "with open(\"ug_cleaned_updated.json\", \"w\") as f:\n",
    "    for ticket in output:\n",
    "        json.dump(ticket, f)\n",
    "        f.write(\"\\n\")\n"
   ]
  },
  {
   "cell_type": "code",
   "execution_count": null,
   "metadata": {},
   "outputs": [],
   "source": []
  }
 ]
}