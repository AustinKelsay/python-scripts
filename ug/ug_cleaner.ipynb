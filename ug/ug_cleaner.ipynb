{
 "metadata": {
  "language_info": {
   "codemirror_mode": {
    "name": "ipython",
    "version": 3
   },
   "file_extension": ".py",
   "mimetype": "text/x-python",
   "name": "python",
   "nbconvert_exporter": "python",
   "pygments_lexer": "ipython3",
   "version": "3.9.5"
  },
  "orig_nbformat": 2,
  "kernelspec": {
   "name": "python395jvsc74a57bd0b0fa6594d8f4cbf19f97940f81e996739fb7646882a419484c72d19e05852a7e",
   "display_name": "Python 3.9.5 64-bit"
  },
  "metadata": {
   "interpreter": {
    "hash": "b0fa6594d8f4cbf19f97940f81e996739fb7646882a419484c72d19e05852a7e"
   }
  }
 },
 "nbformat": 4,
 "nbformat_minor": 2,
 "cells": [
  {
   "cell_type": "code",
   "execution_count": 5,
   "metadata": {},
   "outputs": [
    {
     "output_type": "stream",
     "name": "stdout",
     "text": [
      "Requirement already satisfied: pandas in /opt/homebrew/lib/python3.9/site-packages (1.2.4)\nRequirement already satisfied: numpy>=1.16.5 in /opt/homebrew/lib/python3.9/site-packages (from pandas) (1.20.3)\nRequirement already satisfied: pytz>=2017.3 in /opt/homebrew/lib/python3.9/site-packages (from pandas) (2021.1)\nRequirement already satisfied: python-dateutil>=2.7.3 in /Users/austinkelsay/Library/Python/3.9/lib/python/site-packages (from pandas) (2.8.1)\nRequirement already satisfied: six>=1.5 in /Users/austinkelsay/Library/Python/3.9/lib/python/site-packages (from python-dateutil>=2.7.3->pandas) (1.16.0)\n"
     ]
    }
   ],
   "source": [
    "import sys\n",
    "!{sys.executable} -m pip install pandas\n",
    "import pandas as pd \n",
    "import json"
   ]
  },
  {
   "cell_type": "code",
   "execution_count": 7,
   "metadata": {},
   "outputs": [],
   "source": [
    "dataframe = pd.read_json('question-macros-dataset-2019-06-25T16_08_00Z_2021-05-18T16_08_00Z.txt', orient=\"records\", lines=True)\n",
    "dataframe[\"macro_id\"].value_counts()"
   ]
  },
  {
   "cell_type": "code",
   "execution_count": 19,
   "metadata": {},
   "outputs": [],
   "source": [
    "ticketlist = []\n",
    "unique_ids = set()\n",
    "\n",
    "output = []\n",
    "\n",
    "with open('additional_tickets.json') as file:\n",
    "\tfor obj in file:\n",
    "\t\tticket = json.loads(obj)\n",
    "\t\tticketlist.append(ticket)"
   ]
  },
  {
   "cell_type": "code",
   "execution_count": 63,
   "metadata": {},
   "outputs": [],
   "source": [
    "# the spam headers we want to removed\n",
    "spam_headers = [\"Your email was marked as SPAM\", \"***SPAM***\"]\n",
    "\n",
    "# check for duplicate tickets by id\n",
    "for ticket in ticketlist:\n",
    "    if ticket[\"auxillary_info\"][\"ticket_id\"] not in unique_ids:\n",
    "        unique_ids.add(ticket[\"auxillary_info\"][\"ticket_id\"])\n",
    "        # Check for spam subjects and remove them then add ticket to output\n",
    "        if ticket[\"subject\"] in spam_headers:\n",
    "            ticket[\"subject\"] = \"\"\n",
    "            output.append(ticket)\n",
    "        else:\n",
    "            output.append(ticket)\n",
    "    "
   ]
  },
  {
   "cell_type": "code",
   "execution_count": 64,
   "metadata": {
    "tags": []
   },
   "outputs": [],
   "source": [
    "with open(\"ug_cleaned_updated.json\", \"w\") as f:\n",
    "    for ticket in output:\n",
    "        json.dump(ticket, f)\n",
    "        f.write(\"\\n\")\n"
   ]
  },
  {
   "cell_type": "code",
   "execution_count": null,
   "metadata": {},
   "outputs": [],
   "source": []
  }
 ]
}