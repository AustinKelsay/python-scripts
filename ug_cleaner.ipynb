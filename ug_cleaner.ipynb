{
 "metadata": {
  "language_info": {
   "codemirror_mode": {
    "name": "ipython",
    "version": 3
   },
   "file_extension": ".py",
   "mimetype": "text/x-python",
   "name": "python",
   "nbconvert_exporter": "python",
   "pygments_lexer": "ipython3",
   "version": "3.9.5"
  },
  "orig_nbformat": 2,
  "kernelspec": {
   "name": "python395jvsc74a57bd0b0fa6594d8f4cbf19f97940f81e996739fb7646882a419484c72d19e05852a7e",
   "display_name": "Python 3.9.5 64-bit"
  },
  "metadata": {
   "interpreter": {
    "hash": "b0fa6594d8f4cbf19f97940f81e996739fb7646882a419484c72d19e05852a7e"
   }
  }
 },
 "nbformat": 4,
 "nbformat_minor": 2,
 "cells": [
  {
   "cell_type": "code",
   "execution_count": 30,
   "metadata": {},
   "outputs": [
    {
     "output_type": "stream",
     "name": "stdout",
     "text": [
      "Requirement already satisfied: pandas in /opt/homebrew/lib/python3.9/site-packages (1.2.4)\nRequirement already satisfied: numpy>=1.16.5 in /opt/homebrew/lib/python3.9/site-packages (from pandas) (1.20.3)\nRequirement already satisfied: pytz>=2017.3 in /opt/homebrew/lib/python3.9/site-packages (from pandas) (2021.1)\nRequirement already satisfied: python-dateutil>=2.7.3 in /Users/austinkelsay/Library/Python/3.9/lib/python/site-packages (from pandas) (2.8.1)\nRequirement already satisfied: six>=1.5 in /Users/austinkelsay/Library/Python/3.9/lib/python/site-packages (from python-dateutil>=2.7.3->pandas) (1.16.0)\n"
     ]
    }
   ],
   "source": [
    "import sys\n",
    "!{sys.executable} -m pip install pandas\n",
    "import pandas as pd \n",
    "import json"
   ]
  },
  {
   "cell_type": "code",
   "execution_count": 31,
   "metadata": {},
   "outputs": [
    {
     "output_type": "stream",
     "name": "stdout",
     "text": [
      "      ticket_id     created_at  \\\n0       3190315  1610478622000   \n1       3189353  1610462935000   \n2       3188996  1610448345000   \n3       3188108  1610404027000   \n4       3187512  1610395646000   \n...         ...            ...   \n7389    3322413  1617188619000   \n7390    3322419  1617189656000   \n7391    3322437  1617192808000   \n7392    3322749  1617206976000   \n7393    3323114  1617222592000   \n\n                                             subject  \\\n0     Regarding Your Uncommon Goods Perks Membership   \n1     Regarding Your Uncommon Goods Perks Membership   \n2     Regarding Your Uncommon Goods Perks Membership   \n3     Regarding Your Uncommon Goods Perks Membership   \n4     Regarding Your Uncommon Goods Perks Membership   \n...                                              ...   \n7389                   Your email was marked as SPAM   \n7390                   Your email was marked as SPAM   \n7391                   Your email was marked as SPAM   \n7392                   Your email was marked as SPAM   \n7393                           Re: Would that be OK?   \n\n                                            description      macro_id  \n0     Hi. I love your company but haven't used my me...  360195885054  \n1     ﻿My account was charged as indicated below.  K...  360195885054  \n2     Hi Susan,  Thank you for contacting Uncommon G...  360195885054  \n3     Hello, \\r  I see a charge of $21.34 on my cred...  360195885054  \n4     Hi,  I was trying to cancel my Perks membershi...  360195885054  \n...                                                 ...           ...  \n7389  REQUEST FOR PROPOSAL<https://spark.adobe.com/p...  360019446493  \n7390  We appreciate your prompt attention and paymen...  360019446493  \n7391  Hi, How are you? I'm Providing Paid Guest Post...  360019446493  \n7392  Regards,   Service Team, Industrial Carting  (...  360019446493  \n7393  Hi,  A few days ago I came across your website...  360019446493  \n\n[7394 rows x 5 columns]\n"
     ]
    }
   ],
   "source": [
    "dataframe = pd.read_json('ug_spam_improvement.json', lines=True)\n",
    "print(dataframe)"
   ]
  },
  {
   "cell_type": "code",
   "execution_count": 62,
   "metadata": {},
   "outputs": [],
   "source": [
    "ticketlist = []\n",
    "unique_ids = set()\n",
    "\n",
    "output = []\n",
    "\n",
    "with open('ug_spam_improvement.json') as file:\n",
    "\tfor obj in file:\n",
    "\t\tticket = json.loads(obj)\n",
    "\t\tticketlist.append(ticket)"
   ]
  },
  {
   "cell_type": "code",
   "execution_count": 63,
   "metadata": {},
   "outputs": [],
   "source": [
    "# the spam headers we want to removed\n",
    "spam_headers = [\"Your email was marked as SPAM\", \"***SPAM***\"]\n",
    "\n",
    "# check for duplicate tickets by id\n",
    "for ticket in ticketlist:\n",
    "    if ticket[\"ticket_id\"] not in unique_ids:\n",
    "        unique_ids.add(ticket[\"ticket_id\"])\n",
    "        # Check for spam subjects and remove them then add ticket to output\n",
    "        if ticket[\"subject\"] in spam_headers:\n",
    "            ticket[\"subject\"] = \"\"\n",
    "            output.append(ticket)\n",
    "        else:\n",
    "            output.append(ticket)"
   ]
  },
  {
   "cell_type": "code",
   "execution_count": 64,
   "metadata": {
    "tags": []
   },
   "outputs": [],
   "source": [
    "with open(\"ug_cleaned.json\", \"w\") as f:\n",
    "    for ticket in output:\n",
    "        json.dump(ticket, f)\n",
    "        f.write(\"\\n\")\n"
   ]
  },
  {
   "cell_type": "code",
   "execution_count": null,
   "metadata": {},
   "outputs": [],
   "source": []
  }
 ]
}