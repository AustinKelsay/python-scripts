{
 "metadata": {
  "language_info": {
   "codemirror_mode": {
    "name": "ipython",
    "version": 3
   },
   "file_extension": ".py",
   "mimetype": "text/x-python",
   "name": "python",
   "nbconvert_exporter": "python",
   "pygments_lexer": "ipython3",
   "version": "3.9.5"
  },
  "orig_nbformat": 2,
  "kernelspec": {
   "name": "python395jvsc74a57bd0b0fa6594d8f4cbf19f97940f81e996739fb7646882a419484c72d19e05852a7e",
   "display_name": "Python 3.9.5 64-bit"
  },
  "metadata": {
   "interpreter": {
    "hash": "b0fa6594d8f4cbf19f97940f81e996739fb7646882a419484c72d19e05852a7e"
   }
  }
 },
 "nbformat": 4,
 "nbformat_minor": 2,
 "cells": [
  {
   "cell_type": "code",
   "execution_count": 8,
   "metadata": {},
   "outputs": [
    {
     "output_type": "stream",
     "name": "stdout",
     "text": [
      "Collecting pandas\n",
      "  Downloading pandas-1.2.4.tar.gz (5.5 MB)\n",
      "\u001b[K     |████████████████████████████████| 5.5 MB 3.1 MB/s \n",
      "\u001b[?25h  Installing build dependencies ... \u001b[?25ldone\n",
      "\u001b[?25h  Getting requirements to build wheel ... \u001b[?25ldone\n",
      "\u001b[?25h    Preparing wheel metadata ... \u001b[?25ldone\n",
      "\u001b[?25hCollecting pytz>=2017.3\n",
      "  Downloading pytz-2021.1-py2.py3-none-any.whl (510 kB)\n",
      "\u001b[K     |████████████████████████████████| 510 kB 37.0 MB/s \n",
      "\u001b[?25hCollecting numpy>=1.16.5\n",
      "  Using cached numpy-1.20.3-cp39-cp39-macosx_11_0_arm64.whl\n",
      "Requirement already satisfied: python-dateutil>=2.7.3 in /Users/austinkelsay/Library/Python/3.9/lib/python/site-packages (from pandas) (2.8.1)\n",
      "Requirement already satisfied: six>=1.5 in /Users/austinkelsay/Library/Python/3.9/lib/python/site-packages (from python-dateutil>=2.7.3->pandas) (1.16.0)\n",
      "Building wheels for collected packages: pandas\n",
      "  Building wheel for pandas (PEP 517) ... \u001b[?25ldone\n",
      "\u001b[?25h  Created wheel for pandas: filename=pandas-1.2.4-cp39-cp39-macosx_11_0_arm64.whl size=9335540 sha256=283cf7154a0834109f37cbb2f798c78a78c9677e8d957738b464c07d038dfe94\n",
      "  Stored in directory: /Users/austinkelsay/Library/Caches/pip/wheels/1c/18/1d/96f6fb133a77724bc42fce621a44162d840d037b9289c4a874\n",
      "Successfully built pandas\n",
      "Installing collected packages: pytz, numpy, pandas\n",
      "Successfully installed numpy-1.20.3 pandas-1.2.4 pytz-2021.1\n"
     ]
    }
   ],
   "source": [
    "import sys\n",
    "!{sys.executable} -m pip install pandas\n",
    "import pandas as pd \n",
    "import json"
   ]
  },
  {
   "cell_type": "code",
   "execution_count": 20,
   "metadata": {},
   "outputs": [
    {
     "output_type": "stream",
     "name": "stdout",
     "text": [
      "      ticket_id     created_at  \\\n0       3190315  1610478622000   \n1       3189353  1610462935000   \n2       3188996  1610448345000   \n3       3188108  1610404027000   \n4       3187512  1610395646000   \n...         ...            ...   \n7389    3322413  1617188619000   \n7390    3322419  1617189656000   \n7391    3322437  1617192808000   \n7392    3322749  1617206976000   \n7393    3323114  1617222592000   \n\n                                             subject  \\\n0     Regarding Your Uncommon Goods Perks Membership   \n1     Regarding Your Uncommon Goods Perks Membership   \n2     Regarding Your Uncommon Goods Perks Membership   \n3     Regarding Your Uncommon Goods Perks Membership   \n4     Regarding Your Uncommon Goods Perks Membership   \n...                                              ...   \n7389                   Your email was marked as SPAM   \n7390                   Your email was marked as SPAM   \n7391                   Your email was marked as SPAM   \n7392                   Your email was marked as SPAM   \n7393                           Re: Would that be OK?   \n\n                                            description      macro_id  \n0     Hi. I love your company but haven't used my me...  360195885054  \n1     ﻿My account was charged as indicated below.  K...  360195885054  \n2     Hi Susan,  Thank you for contacting Uncommon G...  360195885054  \n3     Hello, \\r  I see a charge of $21.34 on my cred...  360195885054  \n4     Hi,  I was trying to cancel my Perks membershi...  360195885054  \n...                                                 ...           ...  \n7389  REQUEST FOR PROPOSAL<https://spark.adobe.com/p...  360019446493  \n7390  We appreciate your prompt attention and paymen...  360019446493  \n7391  Hi, How are you? I'm Providing Paid Guest Post...  360019446493  \n7392  Regards,   Service Team, Industrial Carting  (...  360019446493  \n7393  Hi,  A few days ago I came across your website...  360019446493  \n\n[7394 rows x 5 columns]\n"
     ]
    }
   ],
   "source": [
    "dataframe = pd.read_json('ug_spam_improvement.json', lines=True)\n",
    "print(dataframe)"
   ]
  },
  {
   "cell_type": "code",
   "execution_count": null,
   "metadata": {},
   "outputs": [],
   "source": []
  }
 ]
}