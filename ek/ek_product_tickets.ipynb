{
 "metadata": {
  "language_info": {
   "codemirror_mode": {
    "name": "ipython",
    "version": 3
   },
   "file_extension": ".py",
   "mimetype": "text/x-python",
   "name": "python",
   "nbconvert_exporter": "python",
   "pygments_lexer": "ipython3",
   "version": "3.8.5"
  },
  "orig_nbformat": 2,
  "kernelspec": {
   "name": "python3",
   "display_name": "Python 3.8.5 64-bit ('base': conda)"
  },
  "metadata": {
   "interpreter": {
    "hash": "58b2b68eb5cb9589b4c7d31af091abf4e221de8a2b90868b43f9b9f1f5b7d15c"
   }
  },
  "interpreter": {
   "hash": "58b2b68eb5cb9589b4c7d31af091abf4e221de8a2b90868b43f9b9f1f5b7d15c"
  }
 },
 "nbformat": 4,
 "nbformat_minor": 2,
 "cells": [
  {
   "cell_type": "code",
   "execution_count": 1,
   "metadata": {},
   "outputs": [],
   "source": [
    "import calendar\n",
    "import json\n",
    "from collections import Counter\n",
    "from datetime import date\n",
    "from pprint import pprint\n",
    "import os\n",
    "from pymongo import MongoClient"
   ]
  },
  {
   "cell_type": "code",
   "execution_count": 2,
   "metadata": {},
   "outputs": [],
   "source": [
    "with open(os.path.expanduser('~/.mongo/mongo.json'),'r') as config:\n",
    "    mongo_uri = json.load(config)['mongo_uri']\n",
    "client = MongoClient(mongo_uri)\n",
    "db = client.forethought\n",
    "\n",
    "organization_id = '438'\n",
    "start = '2013-04-01T00:00:00Z'\n",
    "end = '2021-05-21T00:00:00Z'\n",
    "mongo_org_collection = db[str(organization_id)]"
   ]
  },
  {
   "cell_type": "code",
   "execution_count": 4,
   "metadata": {},
   "outputs": [
    {
     "output_type": "stream",
     "name": "stderr",
     "text": [
      "<ipython-input-4-3cc08f772254>:14: DeprecationWarning: count is deprecated. Use Collection.count_documents instead.\n",
      "  print(tickets.count())\n",
      "24474\n",
      "total:  100\n"
     ]
    }
   ],
   "source": [
    "def get_dataset():\n",
    "\n",
    "    labels = [\"access_point_addition_request\", \"antenna_addition_request\", \"broken_file__file_handling\", \"frequency_monitor__real_time\", \"frequency_monitor__survey_inspector\", \"hardware_failure_customer\", \"licensing__licence_releases__re_hosting__activations\", \"notes_customer\", \"planner__auto_customer\", \"planner__capacity_customer\", \"planner__manual_customer\", \"planner__other\", \"planner__tools\", \"reporing__one_click\", \"reporting__custom_template_customer\", \"reporting__other_customer\", \"site_survey_customer\", \"visualizations_and_analysis\", \"wow__cad_import\", \"none_of_the_above\"]\n",
    "\n",
    "    tickets = mongo_org_collection.find({\n",
    "        'doc_type': 'ticket',\n",
    "        \"is_deleted\": False,\n",
    "        'original_item.via.channel': {'$in':['web','email', 'api']},\n",
    "        'original_item.created_at': {'$gte': start, '$lte': end},\n",
    "        \"original_item.custom_fields\": { \"$ne\": \n",
    "            { \"id\": 32258607, \"value\": None }\n",
    "        }\n",
    "    })\n",
    "    print(tickets.count())\n",
    "    file_path = os.path.expanduser('~/Downloads/ek_products.json')\n",
    "    with open(file_path, 'w') as f:\n",
    "        count = 0\n",
    "        for ticket in tickets:\n",
    "            i = ticket['original_item']\n",
    "            j = {\n",
    "                \"ticket_id\": i['id'],\n",
    "                \"text_a\": i[\"subject\"],\n",
    "                \"text_b\": i[\"description\"],\n",
    "                \"created_at\": i[\"created_at\"],\n",
    "                \"label\": [x for x in i['tags'] if x in labels]\n",
    "            }\n",
    "            json.dump(j, f)\n",
    "            _ = f.write('\\n')\n",
    "            count += 1\n",
    "            if count > 99:\n",
    "                break\n",
    "    print(\"total: \", count)\n",
    "\n",
    "\n",
    "get_dataset()"
   ]
  },
  {
   "cell_type": "code",
   "execution_count": null,
   "metadata": {},
   "outputs": [],
   "source": []
  }
 ]
}