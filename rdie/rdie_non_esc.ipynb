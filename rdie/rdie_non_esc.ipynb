{
 "metadata": {
  "language_info": {
   "codemirror_mode": {
    "name": "ipython",
    "version": 3
   },
   "file_extension": ".py",
   "mimetype": "text/x-python",
   "name": "python",
   "nbconvert_exporter": "python",
   "pygments_lexer": "ipython3",
   "version": "3.8.5"
  },
  "orig_nbformat": 2,
  "kernelspec": {
   "name": "python385jvsc74a57bd058b2b68eb5cb9589b4c7d31af091abf4e221de8a2b90868b43f9b9f1f5b7d15c",
   "display_name": "Python 3.8.5 64-bit ('base': conda)"
  },
  "metadata": {
   "interpreter": {
    "hash": "58b2b68eb5cb9589b4c7d31af091abf4e221de8a2b90868b43f9b9f1f5b7d15c"
   }
  }
 },
 "nbformat": 4,
 "nbformat_minor": 2,
 "cells": [
  {
   "cell_type": "code",
   "execution_count": 1,
   "metadata": {},
   "outputs": [],
   "source": [
    "import calendar\n",
    "import json\n",
    "from collections import Counter\n",
    "from datetime import date\n",
    "from pprint import pprint\n",
    "import os\n",
    "from pymongo import MongoClient"
   ]
  },
  {
   "cell_type": "code",
   "execution_count": 2,
   "metadata": {},
   "outputs": [],
   "source": [
    "with open(os.path.expanduser('~/.mongo/mongo.json'),'r') as config:\n",
    "    mongo_uri = json.load(config)['mongo_uri']\n",
    "client = MongoClient(mongo_uri)\n",
    "db = client.forethought\n",
    "\n",
    "organization_id = '440'\n",
    "start = '2019-04-01T00:00:00Z'\n",
    "end = '2021-06-03T00:00:00Z'\n",
    "mongo_org_collection = db[str(organization_id)]\n",
    "escalation = [\"roadie_escalations\", \"ubiquity_escalation\"]"
   ]
  },
  {
   "cell_type": "code",
   "execution_count": 3,
   "metadata": {},
   "outputs": [
    {
     "output_type": "stream",
     "name": "stdout",
     "text": [
      "100\n",
      "200\n",
      "300\n",
      "400\n",
      "500\n",
      "600\n",
      "700\n",
      "800\n",
      "total:  800\n"
     ]
    }
   ],
   "source": [
    "def get_dataset():\n",
    "    tickets = mongo_org_collection.find({\n",
    "        'doc_type': 'ticket',\n",
    "        \"is_deleted\": False,\n",
    "        'original_item.via.channel': {'$in':['web','email', 'api']},\n",
    "        'original_item.created_at': {'$gte': start, '$lte': end},\n",
    "        \"original_item.tags\": {\"$nin\": escalation}\n",
    "    })\n",
    "    \n",
    "    file_path = os.path.expanduser('~/Downloads/rdie_non_esc.json')\n",
    "    with open(file_path, 'w') as f:\n",
    "        count = 0\n",
    "        for ticket in tickets:\n",
    "            if count < 2000:\n",
    "                i = ticket[\"original_item\"]\n",
    "                variable_labels = [x for x in escalation if x in i['tags']]\n",
    "                j = {\n",
    "                    \"text_a\": i[\"subject\"],\n",
    "                    \"text_b\": i[\"description\"],\n",
    "                    \"created_at\": i[\"created_at\"],\n",
    "                    \"label\": \"no macro applied\"\n",
    "                    }\n",
    "                    \n",
    "                json.dump(j, f)\n",
    "                _ = f.write('\\n')\n",
    "                count += 1\n",
    "                if count % 100 == 0:\n",
    "                    print(count)\n",
    "            else:\n",
    "                break\n",
    "\n",
    "    print(\"total: \", count)\n",
    "\n",
    "\n",
    "get_dataset()"
   ]
  },
  {
   "cell_type": "code",
   "execution_count": null,
   "metadata": {},
   "outputs": [],
   "source": []
  }
 ]
}