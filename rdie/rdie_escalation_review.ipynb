{
 "metadata": {
  "language_info": {
   "codemirror_mode": {
    "name": "ipython",
    "version": 3
   },
   "file_extension": ".py",
   "mimetype": "text/x-python",
   "name": "python",
   "nbconvert_exporter": "python",
   "pygments_lexer": "ipython3",
   "version": "3.8.5"
  },
  "orig_nbformat": 4,
  "kernelspec": {
   "name": "python3",
   "display_name": "Python 3.8.5 64-bit ('base': conda)"
  },
  "interpreter": {
   "hash": "58b2b68eb5cb9589b4c7d31af091abf4e221de8a2b90868b43f9b9f1f5b7d15c"
  }
 },
 "nbformat": 4,
 "nbformat_minor": 2,
 "cells": [
  {
   "cell_type": "code",
   "execution_count": 1,
   "metadata": {},
   "outputs": [],
   "source": [
    "import calendar\n",
    "import json\n",
    "from collections import Counter\n",
    "from datetime import date\n",
    "from pprint import pprint\n",
    "import os\n",
    "from pymongo import MongoClient"
   ]
  },
  {
   "cell_type": "code",
   "execution_count": null,
   "metadata": {},
   "outputs": [],
   "source": [
    "with open(os.path.expanduser('~/.mongo/mongo.json'),'r') as config:\n",
    "    mongo_uri = json.load(config)['mongo_uri']\n",
    "client = MongoClient(mongo_uri)\n",
    "db = client.forethought\n",
    "\n",
    "organization_id = '440'\n",
    "start = '2021-06-09T00:00:00Z'\n",
    "end = '2021-06-029T00:00:00Z'\n",
    "mongo_org_collection = db[str(organization_id)]\n",
    "escalation = [\"roadie_escalations\"]"
   ]
  },
  {
   "cell_type": "code",
   "execution_count": null,
   "metadata": {},
   "outputs": [],
   "source": [
    "def get_dataset():\n",
    "    tickets = mongo_org_collection.find({\n",
    "        'doc_type': 'ticket',\n",
    "        'is_deleted': False,\n",
    "        'original_item.via.channel': {'$in':['web','email', 'api']},\n",
    "        'original_item.created_at': {'$gte': start, '$lte': end},\n",
    "        \"original_item.tags\": {\"$in\": escalation}\n",
    "    })\n",
    "    \n",
    "    file_path = os.path.expanduser('~/Downloads/rdie_esc.json')\n",
    "    with open(file_path, 'w') as f:\n",
    "        count = 0\n",
    "        for ticket in tickets:\n",
    "            i = ticket[\"original_item\"]\n",
    "            variable_labels = [x for x in escalation if x in i['tags']]\n",
    "            j = {\n",
    "                \"text_a\": i[\"subject\"],\n",
    "                \"text_b\": i[\"description\"],\n",
    "                \"created_at\": i[\"created_at\"],\n",
    "                \"label\": variable_labels[0] if len(variable_labels) > 0 else None,\n",
    "                \"labels\": sorted(variable_labels)\n",
    "                }\n",
    "                \n",
    "            json.dump(j, f)\n",
    "            _ = f.write('\\n')\n",
    "            count += 1\n",
    "            if count % 100 == 0:\n",
    "                print(count)\n",
    "\n",
    "    print(\"total: \", count)\n",
    "\n",
    "\n",
    "get_dataset()"
   ]
  }
 ]
}