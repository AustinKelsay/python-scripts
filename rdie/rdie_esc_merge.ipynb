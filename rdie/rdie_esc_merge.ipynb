{
 "metadata": {
  "language_info": {
   "codemirror_mode": {
    "name": "ipython",
    "version": 3
   },
   "file_extension": ".py",
   "mimetype": "text/x-python",
   "name": "python",
   "nbconvert_exporter": "python",
   "pygments_lexer": "ipython3",
   "version": "3.8.5"
  },
  "orig_nbformat": 2,
  "kernelspec": {
   "name": "python3",
   "display_name": "Python 3.8.5 64-bit ('base': conda)"
  },
  "metadata": {
   "interpreter": {
    "hash": "58b2b68eb5cb9589b4c7d31af091abf4e221de8a2b90868b43f9b9f1f5b7d15c"
   }
  },
  "interpreter": {
   "hash": "58b2b68eb5cb9589b4c7d31af091abf4e221de8a2b90868b43f9b9f1f5b7d15c"
  }
 },
 "nbformat": 4,
 "nbformat_minor": 2,
 "cells": [
  {
   "cell_type": "code",
   "execution_count": 6,
   "metadata": {},
   "outputs": [],
   "source": [
    "import json\n",
    "import pandas as pd"
   ]
  },
  {
   "cell_type": "code",
   "execution_count": 5,
   "metadata": {},
   "outputs": [],
   "source": [
    "ticketlist = []\n",
    "\n",
    "with open('rdie_esc_improved.json') as file:\n",
    "\tfor obj in file:\n",
    "\t\tticket = json.loads(obj)\n",
    "\t\tticketlist.append(ticket)"
   ]
  },
  {
   "cell_type": "code",
   "execution_count": 2,
   "metadata": {},
   "outputs": [],
   "source": [
    "for ticket in ticketlist:\n",
    "    if ticket[\"label\"] == 'ubiquity_escalation':\n",
    "        ticket[\"label\"] = 'roadie_escalations'"
   ]
  },
  {
   "cell_type": "code",
   "execution_count": 7,
   "metadata": {},
   "outputs": [],
   "source": [
    "with open(\"rdie_esc_cleaned.json\", \"w\") as f:\n",
    "    for ticket in ticketlist:\n",
    "        json.dump(ticket, f)\n",
    "        f.write(\"\\n\")"
   ]
  },
  {
   "cell_type": "code",
   "execution_count": 14,
   "metadata": {},
   "outputs": [
    {
     "output_type": "execute_result",
     "data": {
      "text/plain": [
       "forethought_escalations    1418\n",
       "no macro applied            440\n",
       "Name: label, dtype: int64"
      ]
     },
     "metadata": {},
     "execution_count": 14
    }
   ],
   "source": [
    "data = pd.read_json('rdie_esc_combined.json', orient='records',lines=True)\n",
    "data[\"label\"].value_counts().head(50)"
   ]
  },
  {
   "cell_type": "code",
   "execution_count": null,
   "metadata": {},
   "outputs": [],
   "source": []
  }
 ]
}