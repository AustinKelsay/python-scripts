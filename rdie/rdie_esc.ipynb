{
 "metadata": {
  "language_info": {
   "codemirror_mode": {
    "name": "ipython",
    "version": 3
   },
   "file_extension": ".py",
   "mimetype": "text/x-python",
   "name": "python",
   "nbconvert_exporter": "python",
   "pygments_lexer": "ipython3",
   "version": "3.8.5"
  },
  "orig_nbformat": 2,
  "kernelspec": {
   "name": "python3",
   "display_name": "Python 3.8.5 64-bit ('base': conda)"
  },
  "metadata": {
   "interpreter": {
    "hash": "58b2b68eb5cb9589b4c7d31af091abf4e221de8a2b90868b43f9b9f1f5b7d15c"
   }
  },
  "interpreter": {
   "hash": "58b2b68eb5cb9589b4c7d31af091abf4e221de8a2b90868b43f9b9f1f5b7d15c"
  }
 },
 "nbformat": 4,
 "nbformat_minor": 2,
 "cells": [
  {
   "cell_type": "code",
   "execution_count": 9,
   "metadata": {},
   "outputs": [],
   "source": [
    "import calendar\n",
    "import json\n",
    "from collections import Counter\n",
    "from datetime import date\n",
    "from pprint import pprint\n",
    "import os\n",
    "from pymongo import MongoClient"
   ]
  },
  {
   "cell_type": "code",
   "execution_count": 16,
   "metadata": {},
   "outputs": [],
   "source": [
    "with open(os.path.expanduser('~/.mongo/mongo.json'),'r') as config:\n",
    "    mongo_uri = json.load(config)['mongo_uri']\n",
    "client = MongoClient(mongo_uri)\n",
    "db = client.forethought\n",
    "\n",
    "organization_id = '440'\n",
    "start = '2016-01-01T00:00:00Z'\n",
    "end = '2021-06-013T00:00:00Z'\n",
    "mongo_org_collection = db[str(organization_id)]\n",
    "escalation = [\"roadie_escalations\", \"ubiquity_escalation\"]\n",
    "esc = \"forethought_escalations\"\n",
    "nma = \"no macro applied\"\n",
    "invalid = {'locked', '10_user_education', '20_account_creation/maintenance/cancellation', '90_internal_task'}"
   ]
  },
  {
   "cell_type": "code",
   "execution_count": 17,
   "metadata": {},
   "outputs": [],
   "source": [
    "def get_label(i):\n",
    "    return esc if \"[Fraud-Request]\" not in i['subject'] and all(x not in i['tags'] for x in invalid) else nma"
   ]
  },
  {
   "cell_type": "code",
   "execution_count": 18,
   "metadata": {},
   "outputs": [
    {
     "output_type": "stream",
     "name": "stdout",
     "text": [
      "100\n",
      "200\n",
      "300\n",
      "400\n",
      "500\n",
      "600\n",
      "700\n",
      "800\n",
      "900\n",
      "1000\n",
      "1100\n",
      "1200\n",
      "1300\n",
      "1400\n",
      "1500\n",
      "1600\n",
      "1700\n",
      "1800\n",
      "total:  1858\n"
     ]
    }
   ],
   "source": [
    "def get_dataset():\n",
    "    tickets = mongo_org_collection.find({\n",
    "        'doc_type': 'ticket',\n",
    "        \"is_deleted\": False,\n",
    "        'original_item.via.channel': {'$in':['web','email', 'api']},\n",
    "        'original_item.created_at': {'$gte': start, '$lte': end},\n",
    "        \"original_item.tags\": {\"$in\": escalation}\n",
    "    })\n",
    "    \n",
    "    file_path = os.path.expanduser('~/Downloads/rdie_esc_new.json')\n",
    "    with open(file_path, 'w') as f:\n",
    "        count = 0\n",
    "        for ticket in tickets:\n",
    "            i = ticket[\"original_item\"]\n",
    "            variable_labels = [x for x in escalation if x in i['tags']]\n",
    "\n",
    "            j = {\n",
    "                \"ticket_id\": i['id'],\n",
    "                \"text_a\": i[\"subject\"],\n",
    "                \"text_b\": i[\"description\"],\n",
    "                \"created_at\": i[\"created_at\"],\n",
    "                # \"label\": variable_labels[0] if len(variable_labels) > 0 else None,\n",
    "                \"old_label\": sorted(variable_labels),\n",
    "                \"label\": get_label(i),\n",
    "                \"tags\": i['tags']\n",
    "                }\n",
    "                \n",
    "            json.dump(j, f)\n",
    "            _ = f.write('\\n')\n",
    "            count += 1\n",
    "            if count % 100 == 0:\n",
    "                print(count)\n",
    "\n",
    "    print(\"total: \", count)\n",
    "\n",
    "\n",
    "get_dataset()"
   ]
  },
  {
   "cell_type": "code",
   "execution_count": null,
   "metadata": {},
   "outputs": [],
   "source": []
  }
 ]
}