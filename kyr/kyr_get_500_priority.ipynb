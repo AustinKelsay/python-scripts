{
 "metadata": {
  "language_info": {
   "codemirror_mode": {
    "name": "ipython",
    "version": 3
   },
   "file_extension": ".py",
   "mimetype": "text/x-python",
   "name": "python",
   "nbconvert_exporter": "python",
   "pygments_lexer": "ipython3",
   "version": "3.8.5"
  },
  "orig_nbformat": 2,
  "kernelspec": {
   "name": "python385jvsc74a57bd058b2b68eb5cb9589b4c7d31af091abf4e221de8a2b90868b43f9b9f1f5b7d15c",
   "display_name": "Python 3.8.5 64-bit ('base': conda)"
  },
  "metadata": {
   "interpreter": {
    "hash": "58b2b68eb5cb9589b4c7d31af091abf4e221de8a2b90868b43f9b9f1f5b7d15c"
   }
  }
 },
 "nbformat": 4,
 "nbformat_minor": 2,
 "cells": [
  {
   "cell_type": "code",
   "execution_count": 38,
   "metadata": {},
   "outputs": [],
   "source": [
    "import json\n",
    "import pandas as pd"
   ]
  },
  {
   "cell_type": "code",
   "execution_count": 39,
   "metadata": {},
   "outputs": [
    {
     "output_type": "execute_result",
     "data": {
      "text/plain": [
       "task        23359\n",
       "question     1393\n",
       "incident      484\n",
       "problem       372\n",
       "Name: type, dtype: int64"
      ]
     },
     "metadata": {},
     "execution_count": 39
    }
   ],
   "source": [
    "data = pd.read_json('kyr_priority_updated.json', orient='records',lines=True)\n",
    "data[\"type\"].value_counts().head(50)"
   ]
  },
  {
   "cell_type": "code",
   "execution_count": 34,
   "metadata": {
    "tags": []
   },
   "outputs": [],
   "source": [
    "ticketlist = []\n",
    "output = []\n",
    "with open('kyr_priority_updated.json') as file:\n",
    "\tfor obj in file:\n",
    "\t\tif obj in [\"\", \"\\n\", None]:\n",
    "\t\t\tcontinue\n",
    "\t\tticket = json.loads(obj)\n",
    "\t\tticketlist.append(ticket)"
   ]
  },
  {
   "cell_type": "code",
   "execution_count": 35,
   "metadata": {},
   "outputs": [],
   "source": [
    "normal_count = 0\n",
    "low_count = 0\n",
    "for ticket in ticketlist:\n",
    "    if ticket[\"priority\"] == \"low\":\n",
    "        if low_count > 499:\n",
    "            pass\n",
    "        else:\n",
    "            low_count += 1\n",
    "            output.append(ticket)\n",
    "    if ticket[\"priority\"] == \"normal\":\n",
    "        if normal_count > 499:\n",
    "            pass\n",
    "        else:\n",
    "            normal_count += 1\n",
    "            output.append(ticket)\n",
    "    else:\n",
    "        output.append(ticket)\n",
    "\n"
   ]
  },
  {
   "cell_type": "code",
   "execution_count": 36,
   "metadata": {},
   "outputs": [],
   "source": [
    "with open(\"ky_priority_balanced.json\", \"w\") as f:\n",
    "    for ticket in output:\n",
    "        json.dump(ticket, f)\n",
    "        f.write(\"\\n\")"
   ]
  },
  {
   "cell_type": "code",
   "execution_count": null,
   "metadata": {},
   "outputs": [],
   "source": []
  }
 ]
}