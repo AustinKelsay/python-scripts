{
 "metadata": {
  "language_info": {
   "codemirror_mode": {
    "name": "ipython",
    "version": 3
   },
   "file_extension": ".py",
   "mimetype": "text/x-python",
   "name": "python",
   "nbconvert_exporter": "python",
   "pygments_lexer": "ipython3",
   "version": "3.8.5"
  },
  "orig_nbformat": 2,
  "kernelspec": {
   "name": "python385jvsc74a57bd058b2b68eb5cb9589b4c7d31af091abf4e221de8a2b90868b43f9b9f1f5b7d15c",
   "display_name": "Python 3.8.5 64-bit ('base': conda)"
  },
  "metadata": {
   "interpreter": {
    "hash": "58b2b68eb5cb9589b4c7d31af091abf4e221de8a2b90868b43f9b9f1f5b7d15c"
   }
  }
 },
 "nbformat": 4,
 "nbformat_minor": 2,
 "cells": [
  {
   "cell_type": "code",
   "execution_count": 4,
   "metadata": {},
   "outputs": [],
   "source": [
    "import json\n",
    "import pandas as pd"
   ]
  },
  {
   "cell_type": "code",
   "execution_count": 5,
   "metadata": {},
   "outputs": [
    {
     "output_type": "execute_result",
     "data": {
      "text/plain": [
       "low       22950\n",
       "normal     3165\n",
       "high        305\n",
       "urgent      205\n",
       "Name: priority, dtype: int64"
      ]
     },
     "metadata": {},
     "execution_count": 5
    }
   ],
   "source": [
    "data = pd.read_json('kyr_priority_updated.json', orient='records',lines=True)\n",
    "data[\"priority\"].value_counts().head(50)"
   ]
  },
  {
   "cell_type": "code",
   "execution_count": 6,
   "metadata": {
    "tags": []
   },
   "outputs": [],
   "source": [
    "ticketlist = []\n",
    "output = []\n",
    "with open('kyr_priority_updated.json') as file:\n",
    "\tfor obj in file:\n",
    "\t\tif obj in [\"\", \"\\n\", None]:\n",
    "\t\t\tcontinue\n",
    "\t\tticket = json.loads(obj)\n",
    "\t\tticketlist.append(ticket)"
   ]
  },
  {
   "cell_type": "code",
   "execution_count": 7,
   "metadata": {},
   "outputs": [],
   "source": [
    "low = 0\n",
    "normal = 0\n",
    "for ticket in ticketlist:\n",
    "    if ticket['priority'] == 'low':\n",
    "        if low > 1000:\n",
    "            break\n",
    "        else:\n",
    "            output.append(ticket)\n",
    "            low += 1\n",
    "\n",
    "    if ticket['priority'] == 'normal':\n",
    "        if normal > 1000:\n",
    "            pass\n",
    "        else:\n",
    "            output.append(ticket)\n",
    "            normal += 1\n",
    "    else:\n",
    "        output.append(ticket)\n",
    "\n"
   ]
  },
  {
   "cell_type": "code",
   "execution_count": 8,
   "metadata": {},
   "outputs": [],
   "source": [
    "with open(\"ky_priority_cleaned.json\", \"w\") as f:\n",
    "    for ticket in output:\n",
    "        json.dump(ticket, f)\n",
    "        f.write(\"\\n\")"
   ]
  },
  {
   "cell_type": "code",
   "execution_count": null,
   "metadata": {},
   "outputs": [],
   "source": []
  }
 ]
}