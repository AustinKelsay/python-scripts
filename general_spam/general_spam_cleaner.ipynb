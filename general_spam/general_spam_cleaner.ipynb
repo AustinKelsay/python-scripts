{
 "metadata": {
  "language_info": {
   "codemirror_mode": {
    "name": "ipython",
    "version": 3
   },
   "file_extension": ".py",
   "mimetype": "text/x-python",
   "name": "python",
   "nbconvert_exporter": "python",
   "pygments_lexer": "ipython3",
   "version": "3.8.5"
  },
  "orig_nbformat": 4,
  "kernelspec": {
   "name": "python3",
   "display_name": "Python 3.8.5 64-bit ('base': conda)"
  },
  "interpreter": {
   "hash": "58b2b68eb5cb9589b4c7d31af091abf4e221de8a2b90868b43f9b9f1f5b7d15c"
  }
 },
 "nbformat": 4,
 "nbformat_minor": 2,
 "cells": [
  {
   "cell_type": "code",
   "execution_count": 20,
   "metadata": {},
   "outputs": [],
   "source": [
    "import json"
   ]
  },
  {
   "cell_type": "code",
   "execution_count": 24,
   "metadata": {},
   "outputs": [],
   "source": [
    "ticketlist = []\n",
    "output = []\n",
    "uneeded_labels = ['360195885054', '27331002', '1260805443029','360195828013']\n",
    "\n",
    "with open('ug_cleaned.txt') as file:\n",
    "\tfor obj in file:\n",
    "\t\tticket = json.loads(obj)\n",
    "\t\tticketlist.append(ticket)"
   ]
  },
  {
   "cell_type": "code",
   "execution_count": 25,
   "metadata": {},
   "outputs": [],
   "source": [
    "for ticket in ticketlist:\n",
    "    ticket['label'] = ticket.pop('macro_id')\n",
    "    ticket['text_a'] = ticket.pop('subject')\n",
    "    ticket['text_b'] = ticket.pop('description')\n",
    "\n",
    "    if ticket['label'] not in uneeded_labels:\n",
    "        if ticket['label'] == 'no macro applied':\n",
    "            ticket['label'] = 'not_spam'\n",
    "            output.append(ticket)\n",
    "        if ticket['label'] == '360019446493':\n",
    "            ticket['label'] = 'spam'\n",
    "            output.append(ticket)\n",
    "        else:\n",
    "            output.append(ticket)"
   ]
  },
  {
   "cell_type": "code",
   "execution_count": 26,
   "metadata": {},
   "outputs": [],
   "source": [
    "with open(\"ug_spam_cleaned.json\", \"w\") as f:\n",
    "    for ticket in output:\n",
    "        json.dump(ticket, f)\n",
    "        f.write(\"\\n\")"
   ]
  },
  {
   "cell_type": "code",
   "execution_count": null,
   "metadata": {},
   "outputs": [],
   "source": []
  }
 ]
}