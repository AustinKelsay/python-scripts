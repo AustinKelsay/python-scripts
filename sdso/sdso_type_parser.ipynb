{
 "metadata": {
  "language_info": {
   "codemirror_mode": {
    "name": "ipython",
    "version": 3
   },
   "file_extension": ".py",
   "mimetype": "text/x-python",
   "name": "python",
   "nbconvert_exporter": "python",
   "pygments_lexer": "ipython3",
   "version": "3.8.5"
  },
  "orig_nbformat": 2,
  "kernelspec": {
   "name": "python385jvsc74a57bd058b2b68eb5cb9589b4c7d31af091abf4e221de8a2b90868b43f9b9f1f5b7d15c",
   "display_name": "Python 3.8.5 64-bit ('base': conda)"
  },
  "metadata": {
   "interpreter": {
    "hash": "58b2b68eb5cb9589b4c7d31af091abf4e221de8a2b90868b43f9b9f1f5b7d15c"
   }
  }
 },
 "nbformat": 4,
 "nbformat_minor": 2,
 "cells": [
  {
   "cell_type": "code",
   "execution_count": 1,
   "metadata": {},
   "outputs": [],
   "source": [
    "import json\n",
    "import pandas as pd"
   ]
  },
  {
   "cell_type": "code",
   "execution_count": 2,
   "metadata": {},
   "outputs": [
    {
     "output_type": "execute_result",
     "data": {
      "text/plain": [
       "general_question                                      2117\n",
       "shipping_issue                                        1485\n",
       "shipping/carrier_calls__contact_information_needed     887\n",
       "warehouse_inquiry_                                     829\n",
       "user_education                                         463\n",
       "receiving_issue                                        399\n",
       "product_bug                                            314\n",
       "ship_notice_issues__no_sn                              288\n",
       "logistics_support__other                               219\n",
       "product_creation                                       212\n",
       "donate/destroy/defective                               207\n",
       "concession                                             202\n",
       "ship_notice_issues                                     169\n",
       "shipping/carrier_calls__customs_issues_-_other_        146\n",
       "ship_notice_issues__incorrect_sn                       123\n",
       "aging_inventory_response_                               78\n",
       "shipping/carrier_calls__incorrect_address               70\n",
       "education                                               65\n",
       "feedback                                                63\n",
       "shipping/carrier_calls__commercial_invoice              49\n",
       "X                                                       25\n",
       "whiplash_issue                                          22\n",
       "ship_notice_issues__old_sn_                             16\n",
       "logistics_support__insufficient_inventory               11\n",
       "shipping/carrier_calls                                  10\n",
       "insufficient_inventory_                                  8\n",
       "swims_issue                                              6\n",
       "shipping/carrier_calls__customs_issues_-_uk              5\n",
       "shipping/carrier_calls__customs_issues_-_germany         3\n",
       "solicitation/random_                                     3\n",
       "shipping/carrier_calls__customs_issues_-_canada          2\n",
       "logistics_support__packed                                1\n",
       "vip_priority_shipping_request                            1\n",
       "Name: label, dtype: int64"
      ]
     },
     "metadata": {},
     "execution_count": 2
    }
   ],
   "source": [
    "data = pd.read_json('sdso_type_data.json', orient='records',lines=True)\n",
    "data[\"label\"].value_counts().head(50)"
   ]
  },
  {
   "cell_type": "code",
   "execution_count": null,
   "metadata": {},
   "outputs": [],
   "source": []
  }
 ]
}