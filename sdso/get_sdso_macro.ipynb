{
 "metadata": {
  "language_info": {
   "codemirror_mode": {
    "name": "ipython",
    "version": 3
   },
   "file_extension": ".py",
   "mimetype": "text/x-python",
   "name": "python",
   "nbconvert_exporter": "python",
   "pygments_lexer": "ipython3",
   "version": 3
  },
  "orig_nbformat": 2
 },
 "nbformat": 4,
 "nbformat_minor": 2,
 "cells": [
  {
   "cell_type": "code",
   "execution_count": null,
   "metadata": {},
   "outputs": [],
   "source": [
    "import calendar\n",
    "import json\n",
    "from collections import Counter\n",
    "from datetime import date\n",
    "from pprint import pprint\n",
    "import os\n",
    "from pymongo import MongoClient\n",
    "import pandas as pd"
   ]
  },
  {
   "cell_type": "code",
   "execution_count": null,
   "metadata": {},
   "outputs": [],
   "source": [
    "with open(os.path.expanduser('~/.mongo/mongo.json'),'r') as config:\n",
    "    mongo_uri = json.load(config)['mongo_uri']\n",
    "client = MongoClient(mongo_uri)\n",
    "db = client.forethought\n",
    "\n",
    "organization_id = '432'\n",
    "start = '2017-04-01T00:00:00Z'\n",
    "end = '2021-06-07T00:00:00Z'\n",
    "mongo_org_collection = db[str(organization_id)]"
   ]
  },
  {
   "cell_type": "code",
   "execution_count": null,
   "metadata": {},
   "outputs": [],
   "source": [
    "def get_dataset():\n",
    "    tag = 'shipping/carrier_calls__contact_information_needed'\n",
    "    macro = '360104523652'\n",
    "    tickets = mongo_org_collection.find({\n",
    "        'doc_type': 'ticket',\n",
    "        \"is_deleted\": False,\n",
    "        'original_item.via.channel': {'$in':['web','email', \"api\"]},\n",
    "        'original_item.created_at': {'$gte': start, '$lte': end},\n",
    "        \"original_item.via.source.rel\": {\"$ne\": 'voicemail'}\n",
    "    })\n",
    "    \n",
    "    file_path = os.path.expanduser('~/Downloads/sdso_macro.json')\n",
    "    with open(file_path, 'w') as f:\n",
    "        count = 0\n",
    "        for ticket in tickets:\n",
    "            i = ticket[\"original_item\"]\n",
    "            label = macro if tag in i['tags'] else 'no macro applied'\n",
    "            j = {\n",
    "                \"ticket_id\": 'id', \n",
    "                \"subject\": i[\"subject\"],\n",
    "                \"description\": i[\"description\"],\n",
    "                \"created_at\": i[\"created_at\"],\n",
    "                \"label\": label\n",
    "                }\n",
    "                \n",
    "            json.dump(j, f)\n",
    "            _ = f.write('\\n')\n",
    "            count += 1\n",
    "            if count % 100 == 0:\n",
    "                print(count)\n",
    "\n",
    "    print(\"total: \", count)\n",
    "\n",
    "\n",
    "get_dataset()"
   ]
  }
 ]
}